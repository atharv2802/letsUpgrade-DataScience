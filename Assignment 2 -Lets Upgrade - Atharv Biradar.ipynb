{
 "cells": [
  {
   "cell_type": "code",
   "execution_count": 2,
   "metadata": {},
   "outputs": [
    {
     "name": "stdout",
     "output_type": "stream",
     "text": [
      "\n",
      "Enter number : 25\n",
      "\n",
      "Enter number : 36\n",
      "\n",
      "Enter number : 21\n",
      "\n",
      "Enter number : 28\n",
      "\n",
      "Enter number : 36\n",
      "\n",
      "Enter number : 35\n",
      "\n",
      "Enter number : 89\n",
      "\n",
      "Enter number : 76\n",
      "\n",
      "Enter number : 45\n",
      "\n",
      "Enter number : 28\n",
      "\n",
      "The even number list is : [36, 28, 36, 76, 28]\n"
     ]
    }
   ],
   "source": [
    "#Question 1\n",
    "\n",
    "#creating an empty list\n",
    "list = []\n",
    "#creating list to store even numbers\n",
    "even_list = []\n",
    "\n",
    "for i in range(0,10):\n",
    "    x = int(input(\"\\nEnter number : \"))\n",
    "    list.append(x)\n",
    "    \n",
    "for i in list :\n",
    "    if(i%2==0):\n",
    "        even_list.append(i)\n",
    "\n",
    "print(\"\\nThe even number list is :\",even_list)"
   ]
  },
  {
   "cell_type": "code",
   "execution_count": 4,
   "metadata": {},
   "outputs": [
    {
     "name": "stdout",
     "output_type": "stream",
     "text": [
      "['l', 'i', 's', 't', '-', 'c', 'o', 'm', 'p', 'r', 'e', 'h', 'e', 'n', 's', 'i', 'o', 'n']\n"
     ]
    }
   ],
   "source": [
    "#Question 2\n",
    "#List comprehensions are used for creating new lists from other iterables.\n",
    "#As list comprehensions return lists, they consist of brackets containing the expression,\n",
    "#which is executed for each element along with the for loop to iterate over each\n",
    "#element.\n",
    "\n",
    "#syntax\n",
    "# ex_list = (value for_loop conditions)\n",
    "\n",
    "list = []\n",
    "\n",
    "for letter in 'list-comprehension':\n",
    "    list.append(letter)\n",
    "    \n",
    "print(list)"
   ]
  },
  {
   "cell_type": "code",
   "execution_count": 6,
   "metadata": {},
   "outputs": [
    {
     "name": "stdout",
     "output_type": "stream",
     "text": [
      "9\n",
      "{1: 1, 2: 4, 3: 9, 4: 16, 5: 25, 6: 36, 7: 49, 8: 64, 9: 81}\n"
     ]
    }
   ],
   "source": [
    "#Question 3\n",
    "\n",
    "dict = {}\n",
    "\n",
    "n = int(input())\n",
    "\n",
    "for i in range(1,n+1):\n",
    "    dict[i] = i*i\n",
    "    \n",
    "print(dict)"
   ]
  },
  {
   "cell_type": "code",
   "execution_count": 10,
   "metadata": {},
   "outputs": [
    {
     "name": "stdout",
     "output_type": "stream",
     "text": [
      "4\n",
      "UP 5\n",
      "LEFT 3\n",
      "DOWN 3\n",
      "RIGHT 2\n",
      "2\n"
     ]
    }
   ],
   "source": [
    "#Question 4\n",
    "\n",
    "#defining origin\n",
    "pos = {\"x\":0,\"y\":0}\n",
    "\n",
    "#input num of direction\n",
    "n = int(input())\n",
    "\n",
    "for i in range (n):\n",
    "    move = input().split(\" \")\n",
    "    \n",
    "    if move[0].lower() == \"up\":\n",
    "        pos[\"y\"] += int(move[1])\n",
    "        \n",
    "    elif move[0].lower() == \"down\":\n",
    "        pos[\"y\"] -= int(move[1])\n",
    "    \n",
    "    elif move[0].lower() == \"left\":\n",
    "        pos[\"x\"] -= int(move[1])\n",
    "\n",
    "    elif move[0].lower() == \"right\":\n",
    "        pos[\"x\"] += int(move[1])\n",
    "        \n",
    "print(int(round(  ((pos[\"x\"]**2) + (pos[\"y\"]**2)) **0.5)))"
   ]
  }
 ],
 "metadata": {
  "kernelspec": {
   "display_name": "Python 3",
   "language": "python",
   "name": "python3"
  },
  "language_info": {
   "codemirror_mode": {
    "name": "ipython",
    "version": 3
   },
   "file_extension": ".py",
   "mimetype": "text/x-python",
   "name": "python",
   "nbconvert_exporter": "python",
   "pygments_lexer": "ipython3",
   "version": "3.8.3"
  }
 },
 "nbformat": 4,
 "nbformat_minor": 4
}
