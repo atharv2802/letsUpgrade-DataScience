{
 "cells": [
  {
   "cell_type": "code",
   "execution_count": 2,
   "metadata": {},
   "outputs": [
    {
     "name": "stdout",
     "output_type": "stream",
     "text": [
      "[ 2  5  8 11 14 17 20 23 26 29 32 35 38 41 44 47]\n"
     ]
    }
   ],
   "source": [
    "#Question 1\n",
    "\n",
    "import numpy as np\n",
    "\n",
    "arr = np.arange(2,50,3)\n",
    "\n",
    "print(arr)"
   ]
  },
  {
   "cell_type": "code",
   "execution_count": 5,
   "metadata": {},
   "outputs": [
    {
     "name": "stdout",
     "output_type": "stream",
     "text": [
      "Enter the value for list1 :23\n",
      "Enter the value for list1 :24\n",
      "Enter the value for list1 :96\n",
      "Enter the value for list1 :12\n",
      "Enter the value for list1 :4\n",
      "\n",
      "\n",
      "Enter the value for list2 :85\n",
      "Enter the value for list2 :24\n",
      "Enter the value for list2 :75\n",
      "Enter the value for list2 :6\n",
      "Enter the value for list2 :1\n",
      "\n",
      "Concatenated array is : [23 24 96 12  4 85 24 75  6  1]\n",
      "\n",
      "Final Sorted array is : [ 1  4  6 12 23 24 24 75 85 96]\n"
     ]
    }
   ],
   "source": [
    "#Question 2\n",
    "\n",
    "import numpy as np\n",
    "\n",
    "list1 = []\n",
    "list2 = []\n",
    "\n",
    "for i  in range (5):\n",
    "    x = int(input(\"Enter the value for list1 :\"))\n",
    "    list1.append(x)\n",
    "    \n",
    "print(\"\\n\")\n",
    "    \n",
    "for i  in range (5):\n",
    "    x = int(input(\"Enter the value for list2 :\"))\n",
    "    list2.append(x)\n",
    "    \n",
    "arr1 = np.array(list1)\n",
    "arr2 = np.array(list2)\n",
    "\n",
    "arr = np.concatenate((arr1,arr2))\n",
    "print(\"\\nConcatenated array is :\",arr)\n",
    "\n",
    "sorted_arr = np.sort(arr)\n",
    "print(\"\\nFinal Sorted array is :\",sorted_arr)"
   ]
  },
  {
   "cell_type": "code",
   "execution_count": 8,
   "metadata": {},
   "outputs": [
    {
     "name": "stdout",
     "output_type": "stream",
     "text": [
      "Dimensions in array :  2\n",
      "Size of array :  12\n"
     ]
    }
   ],
   "source": [
    "#Question 3\n",
    "\n",
    "import numpy as np\n",
    "\n",
    "arr = np.array([[1, 4, 7], [3, 6, 9], [1, 4, 7], [3, 6, 9]])\n",
    "\n",
    "print(\"Dimensions in array : \",arr.ndim)\n",
    "\n",
    "print(\"Size of array : \",arr.size)"
   ]
  },
  {
   "cell_type": "code",
   "execution_count": 10,
   "metadata": {},
   "outputs": [
    {
     "name": "stdout",
     "output_type": "stream",
     "text": [
      "20\n",
      "\n",
      "Shape of Array : (20,)\n",
      "\n",
      "Shape of 2d Array in row major : (1, 20)\n",
      "\n",
      "Shape of 2d Array in column major : (20, 1)\n"
     ]
    }
   ],
   "source": [
    "#Question 4\n",
    "\n",
    "# importing numpy\n",
    "import numpy as np\n",
    "\n",
    "# creating a 1d array\n",
    "arr = np.arange(int(input()))\n",
    "print(\"\\nShape of Array :\", arr.shape) \n",
    "\n",
    "# converting using newaxis in row wise\n",
    "row_arr = arr[np.newaxis, :]\n",
    "print(\"\\nShape of 2d Array in row major :\",row_arr.shape)\n",
    "\n",
    "# converting using newaxis in column wise\n",
    "col_arr = arr[:, np.newaxis]\n",
    "print(\"\\nShape of 2d Array in column major :\",col_arr.shape)"
   ]
  },
  {
   "cell_type": "code",
   "execution_count": 13,
   "metadata": {},
   "outputs": [
    {
     "name": "stdout",
     "output_type": "stream",
     "text": [
      "Horizontal Append : [  1   4   9  16  25  36  49  64  81 100]\n",
      "Vertical Append :\n",
      " [[  1   4   9  16  25]\n",
      " [ 36  49  64  81 100]]\n"
     ]
    }
   ],
   "source": [
    "#Question 5\n",
    "\n",
    "# importing numpy\n",
    "import numpy as np\n",
    "\n",
    "# creating a array with square values\n",
    "arr1 = np.square([1,2,3,4,5])\n",
    "arr2 = np.square([6,7,8,9,10])\n",
    "\n",
    "# stacking and printing the value\n",
    "print(\"Horizontal Append :\",np.hstack((arr1, arr2)))\n",
    "print(\"Vertical Append :\\n\", np.vstack((arr1, arr2)))"
   ]
  },
  {
   "cell_type": "code",
   "execution_count": 15,
   "metadata": {},
   "outputs": [
    {
     "name": "stdout",
     "output_type": "stream",
     "text": [
      "[[ 1  1]\n",
      " [ 2  3]\n",
      " [ 3  3]\n",
      " [ 4  3]\n",
      " [ 5  2]\n",
      " [ 6  2]\n",
      " [ 7  1]\n",
      " [ 8  2]\n",
      " [10  2]]\n"
     ]
    }
   ],
   "source": [
    "#Question6\n",
    "\n",
    "# importing numpy\n",
    "import numpy as np\n",
    "\n",
    "# creating a array\n",
    "arr_1 = np.array([1,2,3,4,4,4,5,5,8,8,6,6,3,3,7,10,10,2,2])\n",
    "\n",
    "# getting unique charater and its count\n",
    "unique, counts = np.unique(arr_1, return_counts=True)\n",
    "\n",
    "arr = np.asarray((unique, counts)).T\n",
    "print(arr)"
   ]
  }
 ],
 "metadata": {
  "kernelspec": {
   "display_name": "Python 3",
   "language": "python",
   "name": "python3"
  },
  "language_info": {
   "codemirror_mode": {
    "name": "ipython",
    "version": 3
   },
   "file_extension": ".py",
   "mimetype": "text/x-python",
   "name": "python",
   "nbconvert_exporter": "python",
   "pygments_lexer": "ipython3",
   "version": "3.8.3"
  }
 },
 "nbformat": 4,
 "nbformat_minor": 4
}
